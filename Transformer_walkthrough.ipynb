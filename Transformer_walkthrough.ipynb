{
  "nbformat": 4,
  "nbformat_minor": 0,
  "metadata": {
    "colab": {
      "name": "Transformer-walkthrough.ipynb",
      "provenance": [],
      "collapsed_sections": [],
      "authorship_tag": "ABX9TyN3m5R0G4c8CGAWO6LxY3nV",
      "include_colab_link": true
    },
    "kernelspec": {
      "name": "python3",
      "display_name": "Python 3"
    },
    "language_info": {
      "name": "python"
    }
  },
  "cells": [
    {
      "cell_type": "markdown",
      "metadata": {
        "id": "view-in-github",
        "colab_type": "text"
      },
      "source": [
        "<a href=\"https://colab.research.google.com/github/markriedl/transformer-walkthrough/blob/main/Transformer_walkthrough.ipynb\" target=\"_parent\"><img src=\"https://colab.research.google.com/assets/colab-badge.svg\" alt=\"Open In Colab\"/></a>"
      ]
    },
    {
      "cell_type": "markdown",
      "source": [
        "# Transformer Code Walkthrough\n",
        "\n",
        "[Mark Riedl](http://eilab.gatech.edu/mark-riedl.html)\n",
        "\n",
        "This notebook walks through a single forward pass of the Transformer architecture in pytorch. It is meant for illustration and educational purposes only. \n",
        "\n",
        "The Transformer was introduced by Vaswani et al. (2017) in their paper, titled [Attention Is All You Need](https://arxiv.org/abs/1706.03762)."
      ],
      "metadata": {
        "id": "CoRK-2VVfbMp"
      }
    },
    {
      "cell_type": "markdown",
      "source": [
        "# Computation Graph"
      ],
      "metadata": {
        "id": "9riNZp-Jf-HG"
      }
    },
    {
      "cell_type": "markdown",
      "source": [
        "This is the computation graph, an illustrated diagram of the mathematical operations, their inputs and their outputs. The inputs at the bottom are fed upward into an encode and a decoder (depicted side by side like in a sequence-to-sequence network). At every stage, it shows the matrix and their shapes (excluding the batching dimension, which makes the tensors more complicated looking without adding much information). The bubbles show what part of the code below is responsible for each part of the diagram.\n",
        "\n",
        "![Computation Graph](https://github.com/markriedl/transformer-walkthrough/raw/main/transformer.png)"
      ],
      "metadata": {
        "id": "w4kYasNjgBKI"
      }
    },
    {
      "cell_type": "markdown",
      "source": [
        "# Imports"
      ],
      "metadata": {
        "id": "ESzQqTWmfDJN"
      }
    },
    {
      "cell_type": "code",
      "source": [
        "import torch\n",
        "import torch.nn as nn\n",
        "import torch.nn.functional as F\n",
        "import math\n",
        "import numpy as np\n",
        "import matplotlib.pyplot as plt"
      ],
      "metadata": {
        "id": "S-cmUU-75qcq"
      },
      "execution_count": 1,
      "outputs": []
    },
    {
      "cell_type": "markdown",
      "source": [
        "# Hyper parameters"
      ],
      "metadata": {
        "id": "fl8-t60g85Uz"
      }
    },
    {
      "cell_type": "code",
      "source": [
        "d_embed = 512       # embedding size for the attention modules\n",
        "num_heads = 8       # Number of attention heads\n",
        "num_batches = 1     # number of batches (1 makes it easier to see what is going on)\n",
        "vocab = 50000       # vocab size\n",
        "max_len = 5000      # Max length of TODO what exactly?\n",
        "n_layers = 1        # number of attention layers (not used but would be an expected hyper-parameter)\n",
        "d_ff = 2048         # hidden state size in the feed forward layers\n",
        "epsilon = 1e-6      # epsilon to use when we need a small non-zero number\n"
      ],
      "metadata": {
        "id": "99lu6YH3kxwF"
      },
      "execution_count": 2,
      "outputs": []
    },
    {
      "cell_type": "markdown",
      "source": [
        "#Make dummy data"
      ],
      "metadata": {
        "id": "xt8SMUhu5bSk"
      }
    },
    {
      "cell_type": "markdown",
      "source": [
        "Here we create some dummy input data, consisting of three tokens. The 2nd token will be the masked token. Initially we have an input `x` of size `batch_size x sequence_length`. Throughout, we will use `x` to denote the tensor that originated from the input sequence, and `y` to denote the tensor that originated from the target sequence. "
      ],
      "metadata": {
        "id": "KCzWWhuvfs9h"
      }
    },
    {
      "cell_type": "code",
      "source": [
        "x = torch.tensor([[1, 2, 3]]) # input will be 3 tokens\n",
        "y = torch.tensor([[1, 2, 3]]) # target will be same as the input for many applications\n",
        "x_mask = torch.tensor([[1, 0, 1]]) # Mask the 2nd input token\n",
        "y_mask = torch.tensor([[1, 0, 1]]) # Mask the 2nd target token\n",
        "print(\"x\", x.size())\n",
        "print(\"y\", y.size())"
      ],
      "metadata": {
        "colab": {
          "base_uri": "https://localhost:8080/"
        },
        "id": "AVjmrgvysDd6",
        "outputId": "5ed2b8d3-2fff-4d5e-b165-30a3c5eed3a3"
      },
      "execution_count": 3,
      "outputs": [
        {
          "output_type": "stream",
          "name": "stdout",
          "text": [
            "x torch.Size([1, 3])\n",
            "y torch.Size([1, 3])\n"
          ]
        }
      ]
    },
    {
      "cell_type": "markdown",
      "source": [
        "# 1. Encoder"
      ],
      "metadata": {
        "id": "QG8oYLnl8_mX"
      }
    },
    {
      "cell_type": "markdown",
      "source": [
        "This section shows a walk-through of one attention layer in the encoder. The purpose of the encoder is to create a *hidden state*, an encoded representation of the input sequence. The hidden state is then passed to the decoder."
      ],
      "metadata": {
        "id": "n4NB3UzKgUAH"
      }
    },
    {
      "cell_type": "markdown",
      "source": [
        "## 1.1 Encoder Embeddings"
      ],
      "metadata": {
        "id": "yvhxS-vm9QMb"
      }
    },
    {
      "cell_type": "markdown",
      "source": [
        "Use a conventional embedding layer to convert the tokens into embeddings of size `d_embed`. The embedding activations are then scaled by `sqrt(d_model)` in order to make them bigger. This will be important when positional embedding information is added (next). We want this embedding information to have more importance. The result is a tensor of size `batch_size x sequence_length x embedding_size`."
      ],
      "metadata": {
        "id": "KgtVhtKegehe"
      }
    },
    {
      "cell_type": "code",
      "source": [
        "# Make the embedding module. It understands that each token should result in a separate embedding.\n",
        "emb = nn.Embedding(vocab, d_embed)\n",
        "x = emb(x)\n",
        "# Scale the embedding\n",
        "x = x * math.sqrt(d_embed)\n",
        "print(x.size())"
      ],
      "metadata": {
        "colab": {
          "base_uri": "https://localhost:8080/"
        },
        "id": "VKckLst4k4_N",
        "outputId": "fe0ac2c1-ed76-4652-d15b-8f34708d4b87"
      },
      "execution_count": 4,
      "outputs": [
        {
          "output_type": "stream",
          "name": "stdout",
          "text": [
            "torch.Size([1, 3, 512])\n"
          ]
        }
      ]
    },
    {
      "cell_type": "markdown",
      "source": [
        "Next we add positional embedding information. The code below creates a pattern of overlapping sine and cosine waves that are added to the embedding. This differentiates embedded tokens based on where they are in the sequence. That is, if an input sequence has two of the same token, their embeddings will end up looking a little bit different based on their position in the sequence."
      ],
      "metadata": {
        "id": "CYsqRpXesZtV"
      }
    },
    {
      "cell_type": "code",
      "source": [
        "# Start with an empty tensor\n",
        "pe = torch.zeros(max_len, d_embed, requires_grad=False)\n",
        "# array containing index values 0...max_len\n",
        "position = torch.arange(0, max_len).unsqueeze(1)\n",
        "divisor = torch.exp(torch.arange(0, d_embed, 2) * -(math.log(10000.0) / d_embed))\n",
        "# Make overlapping sine and cosine wave inside positional embedding tensor\n",
        "pe[:, 0::2] = torch.sin(position * divisor)\n",
        "pe[:, 1::2] = torch.cos(position * divisor)\n",
        "pe = pe.unsqueeze(0)\n",
        "# Add the position embedding to the main embedding\n",
        "x = x + pe[:, :x.size(1)]\n",
        "print(x.size())"
      ],
      "metadata": {
        "colab": {
          "base_uri": "https://localhost:8080/"
        },
        "id": "WTaufnQksbjC",
        "outputId": "1ea218c2-08fe-4dc7-d7bd-5cbe50ae7d66"
      },
      "execution_count": 5,
      "outputs": [
        {
          "output_type": "stream",
          "name": "stdout",
          "text": [
            "torch.Size([1, 3, 512])\n"
          ]
        }
      ]
    },
    {
      "cell_type": "markdown",
      "source": [
        "To see how positional embeddings work, we can visualize the values that get added to each embedding in each dimension of the embedding (we only visualize the first 8 dimensions)."
      ],
      "metadata": {
        "id": "xTHKykBG4z6F"
      }
    },
    {
      "cell_type": "code",
      "source": [
        "plt.figure(figsize=(15, 5))   # Make a plot\n",
        "d_embed_plot = 16             # for illustration purposes, set embedding dimensions = 16  \n",
        "pe_plot = torch.zeros(max_len, d_embed_plot, requires_grad=False) # positional embedding tensor\n",
        "position_plot = torch.arange(0, max_len).unsqueeze(1)\n",
        "divisor_plot = torch.exp(torch.arange(0, d_embed_plot, 2) * -(math.log(10000.0) / d_embed_plot))\n",
        "pe_plot[:, 0::2] = torch.sin(position_plot * divisor_plot)\n",
        "pe_plot[:, 1::2] = torch.cos(position_plot * divisor_plot)\n",
        "pe_plot = pe_plot.unsqueeze(0)\n",
        "# plot it\n",
        "y_plot = torch.zeros(1, 50, d_embed_plot)\n",
        "y_plot = pe_plot[:, :y_plot.size(1)]\n",
        "plt.plot(np.arange(50), y_plot[0, :, 0:4].data.numpy())\n",
        "plt.legend([\"dim %d\"%p for p in range(8)])"
      ],
      "metadata": {
        "colab": {
          "base_uri": "https://localhost:8080/",
          "height": 338
        },
        "id": "Ka5VtFT5iLzc",
        "outputId": "1f510f12-23d8-4fa8-f3a5-b60cc886ea66"
      },
      "execution_count": 6,
      "outputs": [
        {
          "output_type": "execute_result",
          "data": {
            "text/plain": [
              "<matplotlib.legend.Legend at 0x7f16db5aec50>"
            ]
          },
          "metadata": {},
          "execution_count": 6
        },
        {
          "output_type": "display_data",
          "data": {
            "text/plain": [
              "<Figure size 1080x360 with 1 Axes>"
            ],
            "image/png": "[encoded data removed]"
          },
          "metadata": {
            "needs_background": "light"
          }
        }
      ]
    },
    {
      "cell_type": "markdown",
      "source": [
        "## 1.2 Encoder Attention Layers"
      ],
      "metadata": {
        "id": "0m4932dp9TOQ"
      }
    },
    {
      "cell_type": "markdown",
      "source": [
        "The sub-layers in this section will be repeated N times. This code walkthrough will only take us through one. The Encoder Attention Layers consist of a **self-attention** module followed by a **feed forward** module. \n",
        "\n",
        "The self-attention and the feed forward are wrapped with residuals. A residual connection adds the input of a block to the output of the block. Thus one can think of the block as trying to learn how to add or subtract from the input. This provides stability to the training because the block is not entirely responsible for everything that happens in the forward and backward passes. Taking a look at the encoder for the transformer, one can see the residual connections bypassing the self-attention providing a direct linkage to the hidden state. That is, the embedding at the bottom has the option of doing a lot of the heavy-lifting in terms of the final hidden state encoding. Self-attention and the other sub-layers may add a little bit to that final hidden state or a lot if it helps with loss. Another way of thinking about residuals is like sub-routines in conventional computer program that compute some side-effect. One sub-routine computes the final hidden state. Another sub-routine branches off and computes self-attention. But because every module must be on a gradient path, the side-routines must contribute something to the final loss."
      ],
      "metadata": {
        "id": "63Fk4B5U8Ht5"
      }
    },
    {
      "cell_type": "markdown",
      "source": [
        "### 1.2.1 Self-Attention Module"
      ],
      "metadata": {
        "id": "RAwy0gSVAtAw"
      }
    },
    {
      "cell_type": "markdown",
      "source": [
        "#### 1.2.1.1 Set aside residual"
      ],
      "metadata": {
        "id": "HijbI99O8LNO"
      }
    },
    {
      "cell_type": "markdown",
      "source": [
        "A residual adds the inputs back into the outputs so that what happens in between can be thought of as computing a delta to the original. \n",
        "\n",
        "Typically we don't need to perform a `clone()` to create a residual, but we are using the same `x` variable in every step so the clone makes sure we don't overwrite."
      ],
      "metadata": {
        "id": "Wj4Tw3Ec9GGv"
      }
    },
    {
      "cell_type": "code",
      "source": [
        "x_residual = x.clone() \n",
        "print(x.size())"
      ],
      "metadata": {
        "colab": {
          "base_uri": "https://localhost:8080/"
        },
        "id": "n5MS2WtY46Kr",
        "outputId": "3b65980d-dff5-40af-d3e8-c20a86ea3a40"
      },
      "execution_count": 7,
      "outputs": [
        {
          "output_type": "stream",
          "name": "stdout",
          "text": [
            "torch.Size([1, 3, 512])\n"
          ]
        }
      ]
    },
    {
      "cell_type": "markdown",
      "source": [
        "#### 1.2.1.2 Pre-Self-Attention Layer Normalization"
      ],
      "metadata": {
        "id": "XmMC5eFW7bF8"
      }
    },
    {
      "cell_type": "markdown",
      "source": [
        "Before we compute self-attention, we perform layer normalization. Layer normalization stabilizes the training by decreasing the chances that values start to go to extremes. This is accomplished by centering all the values relative to the mean."
      ],
      "metadata": {
        "id": "deaGpdDo0ezK"
      }
    },
    {
      "cell_type": "code",
      "source": [
        "mean = x.mean(-1, keepdim=True)\n",
        "std = x.std(-1, keepdim=True)\n",
        "W1 = nn.Parameter(torch.ones(d_embed))\n",
        "b1 = nn.Parameter(torch.zeros(d_embed))\n",
        "x = W1 * (x - mean) / (std + epsilon) + b1\n",
        "print(x.size())"
      ],
      "metadata": {
        "colab": {
          "base_uri": "https://localhost:8080/"
        },
        "id": "h0Bmhybj7cia",
        "outputId": "ac9eaf1c-ece3-4f5a-f55c-1a7a192cb1b4"
      },
      "execution_count": 8,
      "outputs": [
        {
          "output_type": "stream",
          "name": "stdout",
          "text": [
            "torch.Size([1, 3, 512])\n"
          ]
        }
      ]
    },
    {
      "cell_type": "markdown",
      "source": [
        "#### 1.2.1.3 Self-Attention"
      ],
      "metadata": {
        "id": "PhNCyBcLlNhI"
      }
    },
    {
      "cell_type": "markdown",
      "source": [
        "Self-attention is a process of generating scores that indicate how each token is to every other token. Thus we would expect a `seq_length x seq_length` matrix of values between 0 and 1, each indicating the importance of the i-th token to the j-th token. What does it mean to be \"relevant\"? Whatever reduces loss. The model must learn how to produce the scores.\n",
        "\n",
        "A metaphor for understanding self-attention is a hash table. In a hash table, there is a list of keys, each of which is associated with a value. A query is sent to the hash table, and the hash table has to find the matching key and return the associated value. Except imagine that this hash table is a fuzzy hash table in the sense that it the query doesn't have to match any keys and the hash table will return whatever seems closest to the query.\n",
        "\n",
        "The input to self-attention is a `batch_size x sequence_length x embedding_size` matrix. Ignoring the batching dimension, what we have is a sequence of embedded tokens. Self-attention copies this input, `x`, three times and calls them the \"query\" (`q`), \"keys\" (`k`), and \"values\" (`v`). Each of those matrices go through a linear layer. This linear layer is where the network learns to make scores. It makes each matrix different, and if it comes up with the right, different, matrices, it will get good attention scores. If it gets good attention scores and if it gets good attention scores, the loss will be reduced.\n",
        "\n",
        "Attention-scores are generated as follows. First, we split the `q` and `k` matrices into multiple parts (called \"heads\"). This is called multi-headed attention. The reason we do this is so that each head/part can independently produce different attention scores. This allows each token to have several \"best\" other tokens. In implementation, we just designate chunks of each token embedding to different heads.\n",
        "\n",
        "The `q` and `k` tensors are multiplied together. This creates a `batch_size x num_heads x sequence_length x sequence_length` matrix. Ignoring batching and heads, one can interpret this matrix as containing the raw scores where each cell computes how related the i-th token is to the j-th token (i is the row and j is the column). \n",
        "\n",
        "Next we pass this matrix through a softmax layer. The secret to softmax is that it can act like an argmax---it can pick the best match. Softmax squishes all values along a particular dimenion into 0...1. But what it is really doing is trying to force one particular cell to have a number close to 1 and all the rest close to 0. If we multiply this softmaxed score matrix to the `v` matrix, we are in essence asking (for each head), which column is best for each row. Recall that rows and columns correspond to tokens. So we are asking, which token goes best with every other token. Again, if the earlier linear layers get their parameters right, this multiplication will make good choices and loss will improve.\n",
        "\n",
        "At this point we can think of the softmaxed scores multiplied against `v` as tryinng to zero out everything but the most relevant token embedding (several because of multiple heads). The result, which we will store back in `x` for consistency is mainly the most-attended token embedding (several because of multiple heads) plus a little bit of every other embedded token sprinkled in because we can't do an actual argmax---the best we can do is get everything irrelevant to be close to zero so it doesn't impact anything else.\n",
        "\n",
        "This multiplication of the scores against the `v` matrix is what we refer to as *self-attention*. It is essentially a dot-product with an underlying learned scoring function. It basically tells us where we should look for good information. The Decoder will use this later."
      ],
      "metadata": {
        "id": "IiXzh1P3_7rC"
      }
    },
    {
      "cell_type": "code",
      "source": [
        "# Make three versions of x, for the query, key, and value\n",
        "# We don't need to clone because these will immediately go through linear layers, making new tensors\n",
        "k = x # key\n",
        "q = x # query\n",
        "v = x # value\n",
        "# Make three linear layers\n",
        "# This is where the network learns to make scores\n",
        "linear_k = nn.Linear(d_embed, d_embed)\n",
        "linear_q = nn.Linear(d_embed, d_embed)\n",
        "linear_v = nn.Linear(d_embed, d_embed)\n",
        "# We are going to fold the embedding dimensions and treat each fold as an attention head\n",
        "d_k = d_embed // num_heads\n",
        "# Pass q, k, v through their linear layers\n",
        "q = linear_q(q)\n",
        "k = linear_k(k)\n",
        "v = linear_v(v)\n",
        "# Do the fold, treating each h dimenssions as a head\n",
        "# Put the head in the second position\n",
        "q = q.view(num_batches, -1, num_heads, d_k).transpose(1, 2)\n",
        "k = k.view(num_batches, -1, num_heads, d_k).transpose(1, 2)\n",
        "v = v.view(num_batches, -1, num_heads, d_k).transpose(1, 2)\n",
        "print(\"q\", q.size())\n",
        "print(\"x\", k.size())\n",
        "print(\"v\", v.size())"
      ],
      "metadata": {
        "colab": {
          "base_uri": "https://localhost:8080/"
        },
        "id": "kpExj3wl5uRq",
        "outputId": "34f2f847-6628-428d-b3b2-b9631dd41b65"
      },
      "execution_count": 9,
      "outputs": [
        {
          "output_type": "stream",
          "name": "stdout",
          "text": [
            "q torch.Size([1, 8, 3, 64])\n",
            "k torch.Size([1, 8, 3, 64])\n",
            "v torch.Size([1, 8, 3, 64])\n"
          ]
        }
      ]
    },
    {
      "cell_type": "markdown",
      "source": [
        "To produce the attention scores we multiply `q` and `k` (and normalize). We need to apply the mask so masked tokens don't attend to themselves. Apply softmax to emulate argmax (good stuff close to 1 irrelevant stuff close to 0). You won't see this happen if you look at `attn` because the linear layers aren't trained yet. The attention scores are finally applied to `v`."
      ],
      "metadata": {
        "id": "dkJ2lxguABuE"
      }
    },
    {
      "cell_type": "code",
      "source": [
        "d_k = q.size(-1)\n",
        "# Compute the raw scores by multiplying k and q (and normalize)\n",
        "scores = torch.matmul(k, q.transpose(-2, -1)) / math.sqrt(d_k)\n",
        "# Mask out the scores\n",
        "scores = scores.masked_fill(x_mask == 0, -epsilon)\n",
        "# Softmax the scores, ideally creating one score close to 1 and the rest close to 0\n",
        "# (Note: this won't happen if you look at the numbers because the linear layers haven't \n",
        "# learned anything yet.)\n",
        "attn = F.softmax(scores, dim = -1)\n",
        "print(\"attention\", attn.size())\n",
        "# Apply the scores to v\n",
        "x = torch.matmul(attn, v)\n",
        "print(\"x\", x.size())"
      ],
      "metadata": {
        "colab": {
          "base_uri": "https://localhost:8080/"
        },
        "id": "CsYkRUoIDDfU",
        "outputId": "954521e1-e00c-4141-8e59-31151a466216"
      },
      "execution_count": 10,
      "outputs": [
        {
          "output_type": "stream",
          "name": "stdout",
          "text": [
            "attention torch.Size([1, 8, 3, 3])\n",
            "x torch.Size([1, 8, 3, 64])\n"
          ]
        }
      ]
    },
    {
      "cell_type": "markdown",
      "source": [
        "The following is an illustration of what self-attention is doing. In the `attn` matrix below each row and column represents a different positionn in the input sequence, such that `attn[i][j]` is how much affinity the i-th position has for the j-th position. In a perfect world, the softmax pushes one element in each row close to 1 and everything else close to 0. Multiplying `attn` against `v` we are picking an embedding (hidden state) for each position (if we have multi-headed attention then we are picking several and adding combining them but the cell below doesn't show that). "
      ],
      "metadata": {
        "id": "K2tJuasVgbzx"
      }
    },
    {
      "cell_type": "code",
      "source": [
        "# Make fake attention scores with extreme values\n",
        "attn = torch.zeros(3, 3)\n",
        "attn[0,1] = 1\n",
        "attn[1,2] = 1\n",
        "attn[2,0] = 1\n",
        "print(\"attn:\")\n",
        "print(attn)\n",
        "# Make a fake v embedding\n",
        "v = torch.tensor(list(map(lambda x:list(range(x*10,(x*10)+10)), list(range(3))))).float()\n",
        "print(\"v:\") \n",
        "print(v)\n",
        "print(\"Matmul result:\")\n",
        "print(torch.matmul(attn, v))"
      ],
      "metadata": {
        "colab": {
          "base_uri": "https://localhost:8080/"
        },
        "id": "z0W5rFyfeSWz",
        "outputId": "774a05bd-1ab6-41f2-aee8-59d0a741613a"
      },
      "execution_count": 30,
      "outputs": [
        {
          "output_type": "stream",
          "name": "stdout",
          "text": [
            "attn:\n",
            "tensor([[0., 1., 0.],\n",
            "        [0., 0., 1.],\n",
            "        [1., 0., 0.]])\n",
            "v:\n",
            "tensor([[ 0.,  1.,  2.,  3.,  4.,  5.,  6.,  7.,  8.,  9.],\n",
            "        [10., 11., 12., 13., 14., 15., 16., 17., 18., 19.],\n",
            "        [20., 21., 22., 23., 24., 25., 26., 27., 28., 29.]])\n",
            "Matmul result:\n",
            "tensor([[10., 11., 12., 13., 14., 15., 16., 17., 18., 19.],\n",
            "        [20., 21., 22., 23., 24., 25., 26., 27., 28., 29.],\n",
            "        [ 0.,  1.,  2.,  3.,  4.,  5.,  6.,  7.,  8.,  9.]])\n"
          ]
        }
      ]
    },
    {
      "cell_type": "markdown",
      "source": [
        "But now your embeddings are all swapped around and a little bit of many positions can be mixed together. This is why the residual is going to be important because you can't lose the original embeddings in their original positions."
      ],
      "metadata": {
        "id": "mGAk--KSiSED"
      }
    },
    {
      "cell_type": "markdown",
      "source": [
        "Recombine the multiple attention heads (unfold)."
      ],
      "metadata": {
        "id": "6TFWgbA8lRl0"
      }
    },
    {
      "cell_type": "code",
      "source": [
        "x = x.transpose(1, 2).contiguous().view(num_batches, -1, num_heads * (d_embed // num_heads))\n",
        "print(x.size())"
      ],
      "metadata": {
        "colab": {
          "base_uri": "https://localhost:8080/"
        },
        "id": "mdlAJY9UJeUe",
        "outputId": "f7fa80fd-4236-4a0f-8263-a359d67420e6"
      },
      "execution_count": null,
      "outputs": [
        {
          "output_type": "stream",
          "name": "stdout",
          "text": [
            "torch.Size([1, 3, 512])\n"
          ]
        }
      ]
    },
    {
      "cell_type": "markdown",
      "source": [
        "#### 1.2.1.4 Post-Self-Attention Feed forward"
      ],
      "metadata": {
        "id": "aLze8Ea5Beiw"
      }
    },
    {
      "cell_type": "markdown",
      "source": [
        "From this point, we have some token embeddings pushed toward 1 and some token embeddings pushed toward 0. We need to prepare this matrix to be added back into the residual. That is, whatever comes out of this transformation has be a set of values that change the original embedding values for each token by some delta up or down."
      ],
      "metadata": {
        "id": "ZEt2a7DD6jss"
      }
    },
    {
      "cell_type": "code",
      "source": [
        "ff = nn.Linear(d_embed, d_embed)\n",
        "x = ff(x)\n",
        "print(x.size())"
      ],
      "metadata": {
        "colab": {
          "base_uri": "https://localhost:8080/"
        },
        "id": "_EGA4t_myfIA",
        "outputId": "b154d19d-b74d-4fe1-a8e4-a032b276125c"
      },
      "execution_count": null,
      "outputs": [
        {
          "output_type": "stream",
          "name": "stdout",
          "text": [
            "torch.Size([1, 3, 512])\n"
          ]
        }
      ]
    },
    {
      "cell_type": "markdown",
      "source": [
        "#### 1.2.1.5 Add residual back in"
      ],
      "metadata": {
        "id": "BX-aPZGO7-bf"
      }
    },
    {
      "cell_type": "code",
      "source": [
        "x = x_residual + x\n",
        "print(x.size())"
      ],
      "metadata": {
        "colab": {
          "base_uri": "https://localhost:8080/"
        },
        "id": "1ECgQ-hr7_QB",
        "outputId": "3a5cd86d-3598-4cbc-b940-848fcc5afc52"
      },
      "execution_count": null,
      "outputs": [
        {
          "output_type": "stream",
          "name": "stdout",
          "text": [
            "torch.Size([1, 3, 512])\n"
          ]
        }
      ]
    },
    {
      "cell_type": "markdown",
      "source": [
        "### 1.2.2 Feed Forward Module"
      ],
      "metadata": {
        "id": "MwVW4AGcA_jU"
      }
    },
    {
      "cell_type": "markdown",
      "source": [
        "This is a straight-forward decoding and re-encoding of the embedding plus self-attention. What we want by the end of the encoding stage is a hidden state. Like in a sequence-to-sequence network we want a *stack* of hidden states, one for each token. That way, the decoder will be able to look back and attend to the hidden state that will be most useful for decoding by looking just at this stack instead of iterating over all the input tokens. So whatever is in each token position has to be representative of what is going on in the input. To move the matrix toward a hidden state we expand the embeddings, giving the network some capacity, and then collapse it down again to force it to make trade-offs."
      ],
      "metadata": {
        "id": "xUg-4uJW7JH5"
      }
    },
    {
      "cell_type": "markdown",
      "source": [
        "#### 1.2.2.1 Set aside residual"
      ],
      "metadata": {
        "id": "_9B8fYjZ8PMX"
      }
    },
    {
      "cell_type": "code",
      "source": [
        "x_residual = x.clone() \n",
        "print(x.size())"
      ],
      "metadata": {
        "colab": {
          "base_uri": "https://localhost:8080/"
        },
        "id": "2msqv_Br6fHu",
        "outputId": "4ccaa96e-85ac-42b9-c4b1-17fd502d2aeb"
      },
      "execution_count": null,
      "outputs": [
        {
          "output_type": "stream",
          "name": "stdout",
          "text": [
            "torch.Size([1, 3, 512])\n"
          ]
        }
      ]
    },
    {
      "cell_type": "markdown",
      "source": [
        "#### 1.2.2.2 Pre-Feed-Forward Layer Normalization"
      ],
      "metadata": {
        "id": "APWv9beO1rki"
      }
    },
    {
      "cell_type": "code",
      "source": [
        "mean = x.mean(-1, keepdim=True)\n",
        "std = x.std(-1, keepdim=True)\n",
        "W2 = nn.Parameter(torch.ones(d_embed))\n",
        "b2 = nn.Parameter(torch.zeros(d_embed))\n",
        "x = W2 * (x - mean) / (std + epsilon) + b2\n",
        "print(x.size())"
      ],
      "metadata": {
        "colab": {
          "base_uri": "https://localhost:8080/"
        },
        "id": "i2riRAUL8RFu",
        "outputId": "bbfd95fd-0768-4be7-bdd2-2bb5d1cf476a"
      },
      "execution_count": null,
      "outputs": [
        {
          "output_type": "stream",
          "name": "stdout",
          "text": [
            "torch.Size([1, 3, 512])\n"
          ]
        }
      ]
    },
    {
      "cell_type": "markdown",
      "source": [
        "#### 1.2.2.3 Feed Forward"
      ],
      "metadata": {
        "id": "AwE944o96SDh"
      }
    },
    {
      "cell_type": "markdown",
      "source": [
        "This feed forward module grows the embeddings and then compresses it again. This is part of process of transforming the outputs of the self-attention module into a hidden state encoding."
      ],
      "metadata": {
        "id": "zIwN6aUQk2dw"
      }
    },
    {
      "cell_type": "code",
      "source": [
        "linear_expand = nn.Linear(d_embed, d_ff)\n",
        "linear_compress = nn.Linear(d_ff, d_embed)\n",
        "x = linear_compress(F.relu(linear_expand(x)))\n",
        "print(x.size())"
      ],
      "metadata": {
        "colab": {
          "base_uri": "https://localhost:8080/"
        },
        "id": "7aNAnARK6CRp",
        "outputId": "58685c56-50f5-4551-e2f9-c6db59a6e926"
      },
      "execution_count": null,
      "outputs": [
        {
          "output_type": "stream",
          "name": "stdout",
          "text": [
            "torch.Size([1, 3, 512])\n"
          ]
        }
      ]
    },
    {
      "cell_type": "markdown",
      "source": [
        "#### 1.2.2.4 Add residual back in"
      ],
      "metadata": {
        "id": "3ksl3ra36qqc"
      }
    },
    {
      "cell_type": "code",
      "source": [
        "x = x_residual + x\n",
        "print(x.size())"
      ],
      "metadata": {
        "colab": {
          "base_uri": "https://localhost:8080/"
        },
        "id": "VhWKoJsi6sec",
        "outputId": "e7094c72-7132-432f-f037-c6bb8ea1de01"
      },
      "execution_count": null,
      "outputs": [
        {
          "output_type": "stream",
          "name": "stdout",
          "text": [
            "torch.Size([1, 3, 512])\n"
          ]
        }
      ]
    },
    {
      "cell_type": "markdown",
      "source": [
        "## 1.3 Final Encoder Layer Normalization"
      ],
      "metadata": {
        "id": "qbm-9J7V8z7w"
      }
    },
    {
      "cell_type": "markdown",
      "source": [
        "After repeating the self-attention and feed forward sub-layers N times, we apply one last layer normalization."
      ],
      "metadata": {
        "id": "vrl8f-TEBxMk"
      }
    },
    {
      "cell_type": "code",
      "source": [
        "mean = x.mean(-1, keepdim=True)\n",
        "std = x.std(-1, keepdim=True)\n",
        "Wn = nn.Parameter(torch.ones(d_embed))\n",
        "bn = nn.Parameter(torch.zeros(d_embed))\n",
        "x = Wn * (x - mean) / (std + epsilon) + bn\n",
        "print(x.size())"
      ],
      "metadata": {
        "colab": {
          "base_uri": "https://localhost:8080/"
        },
        "id": "Lz9Wf7cO6t8I",
        "outputId": "1ae80ca2-0fa9-4d1b-b359-83b7b9ec8922"
      },
      "execution_count": null,
      "outputs": [
        {
          "output_type": "stream",
          "name": "stdout",
          "text": [
            "torch.Size([1, 3, 512])\n"
          ]
        }
      ]
    },
    {
      "cell_type": "markdown",
      "source": [
        "At this point, we should have a matrix, stored in `x` that we can interpret as a stack of hidden states. The Decoder will attempt to attend to this stack and pick out (via softmax emulating argmax) the hidden state that is most helpful in guessing the work that goes in the masked position."
      ],
      "metadata": {
        "id": "V-Gbr1_UzQUD"
      }
    },
    {
      "cell_type": "code",
      "source": [
        "# Signify that the output is the hidden state\n",
        "hidden = x\n",
        "print(hidden.size())"
      ],
      "metadata": {
        "colab": {
          "base_uri": "https://localhost:8080/"
        },
        "id": "atpOCyod0Xkw",
        "outputId": "68928ee4-8272-484a-8502-a1f05803c1c4"
      },
      "execution_count": null,
      "outputs": [
        {
          "output_type": "stream",
          "name": "stdout",
          "text": [
            "torch.Size([1, 3, 512])\n"
          ]
        }
      ]
    },
    {
      "cell_type": "markdown",
      "source": [
        "# 2. Decoder"
      ],
      "metadata": {
        "id": "EBZ52DJo-Lry"
      }
    },
    {
      "cell_type": "markdown",
      "source": [
        "The Decoder works a lot like the Encoder except for one major change. In addition to self-attention and a feed-forward modules, the Decoder will also include a *source-attention* module wherein it attends to the hidden state output of the encoder. \n",
        "\n",
        "We will be operating on `y`, which is the sequence of target tokens instead of `x`. It seems weird to be treating the target the same as an input. The closest analog is the sequence-to-sequence network, which would generate a sequence of output tokens one at a time to compare to the target sequence to compute loss. But here we don't need to generate the output sequence because there is no recurrence. So we just take the target output and treat it as if it was generated by the transformer. The exception is the masked output token (which is normally the same position as the masked input). For computing loss, we only care if we get a good prediction for the masked target tokens."
      ],
      "metadata": {
        "id": "7Y0CisCQzmtW"
      }
    },
    {
      "cell_type": "markdown",
      "source": [
        "## 2.1 Decoder Embeddings"
      ],
      "metadata": {
        "id": "gD3IQX2A-S9r"
      }
    },
    {
      "cell_type": "code",
      "source": [
        "emb_d = nn.Embedding(vocab, d_embed)\n",
        "y = emb_d(y) * math.sqrt(d_embed)\n",
        "print(y.size())"
      ],
      "metadata": {
        "colab": {
          "base_uri": "https://localhost:8080/"
        },
        "id": "9gzaYeb8-NJB",
        "outputId": "fbebfe93-bd6a-487f-8891-4d0b026cdde3"
      },
      "execution_count": null,
      "outputs": [
        {
          "output_type": "stream",
          "name": "stdout",
          "text": [
            "torch.Size([1, 3, 512])\n"
          ]
        }
      ]
    },
    {
      "cell_type": "markdown",
      "source": [
        "Add positional embeddings."
      ],
      "metadata": {
        "id": "qIJG3QC2-VWo"
      }
    },
    {
      "cell_type": "code",
      "source": [
        "pe = torch.zeros(max_len, d_embed, requires_grad=False)\n",
        "position = torch.arange(0, max_len).unsqueeze(1)\n",
        "divisor = torch.exp(torch.arange(0, d_embed, 2) * -(math.log(10000.0) / d_embed))\n",
        "pe[:, 0::2] = torch.sin(position * divisor)\n",
        "pe[:, 1::2] = torch.cos(position * divisor)\n",
        "pe = pe.unsqueeze(0)\n",
        "y = y + pe[:, :y.size(1)]\n",
        "print(y.size())"
      ],
      "metadata": {
        "colab": {
          "base_uri": "https://localhost:8080/"
        },
        "id": "gOXTa8yJ-VC1",
        "outputId": "8b4b9923-0252-44f6-83b2-5e212a58faa0"
      },
      "execution_count": null,
      "outputs": [
        {
          "output_type": "stream",
          "name": "stdout",
          "text": [
            "torch.Size([1, 3, 512])\n"
          ]
        }
      ]
    },
    {
      "cell_type": "markdown",
      "source": [
        "## 2.2 Decoder Attention Layers"
      ],
      "metadata": {
        "id": "YkI23w9Z_LzP"
      }
    },
    {
      "cell_type": "markdown",
      "source": [
        "The decoder layers will be repeated N times. This code walkthrough will only take us through one. The Decoder Attention Layer consists of self-attention followed by a source-attention, followed by a feed forward. Each of these are wrapped with residuals. "
      ],
      "metadata": {
        "id": "0UJrTA06DNoj"
      }
    },
    {
      "cell_type": "markdown",
      "source": [
        "### 2.2.1. Self-Attention Sub-Layer"
      ],
      "metadata": {
        "id": "nYKLH9tgEnVz"
      }
    },
    {
      "cell_type": "markdown",
      "source": [
        "#### 2.2.1.1 Set aside residual"
      ],
      "metadata": {
        "id": "0mgRzWgkAfFQ"
      }
    },
    {
      "cell_type": "code",
      "source": [
        "y_residual = y.clone() \n",
        "print(y.size())"
      ],
      "metadata": {
        "colab": {
          "base_uri": "https://localhost:8080/"
        },
        "id": "0qZZBDBr_NRh",
        "outputId": "c3dcd539-ffdb-4ff9-bef0-7a861d2ce8ad"
      },
      "execution_count": null,
      "outputs": [
        {
          "output_type": "stream",
          "name": "stdout",
          "text": [
            "torch.Size([1, 3, 512])\n"
          ]
        }
      ]
    },
    {
      "cell_type": "markdown",
      "source": [
        "#### 2.2.1.2 Pre-Self-Attention Layer Normalization"
      ],
      "metadata": {
        "id": "oX38ceiTAqp7"
      }
    },
    {
      "cell_type": "code",
      "source": [
        "mean = y.mean(-1, keepdim=True)\n",
        "std = y.std(-1, keepdim=True)\n",
        "W1_d = nn.Parameter(torch.ones(d_embed))\n",
        "b1_d = nn.Parameter(torch.zeros(d_embed))\n",
        "y = W1_d * (y - mean) / (std + epsilon) + b1_d\n",
        "print(y.size())"
      ],
      "metadata": {
        "colab": {
          "base_uri": "https://localhost:8080/"
        },
        "id": "qfK0B9FEArrw",
        "outputId": "980ee0fc-cb6e-41af-a19b-9bada6a49e42"
      },
      "execution_count": null,
      "outputs": [
        {
          "output_type": "stream",
          "name": "stdout",
          "text": [
            "torch.Size([1, 3, 512])\n"
          ]
        }
      ]
    },
    {
      "cell_type": "markdown",
      "source": [
        "#### 2.2.1.3 Self-Attention"
      ],
      "metadata": {
        "id": "1ZOJN-Y6AkgT"
      }
    },
    {
      "cell_type": "code",
      "source": [
        "k = y\n",
        "q = y\n",
        "v = y\n",
        "linear_q_self = nn.Linear(d_embed, d_embed)\n",
        "linear_k_self = nn.Linear(d_embed, d_embed)\n",
        "linear_v_self = nn.Linear(d_embed, d_embed)\n",
        "d_k = d_embed // num_heads\n",
        "q = linear_q_self(q)\n",
        "k = linear_k_self(k)\n",
        "v = linear_v_self(v)\n",
        "q = q.view(num_batches, -1, num_heads, d_k).transpose(1, 2)\n",
        "k = k.view(num_batches, -1, num_heads, d_k).transpose(1, 2)\n",
        "v = v.view(num_batches, -1, num_heads, d_k).transpose(1, 2)\n",
        "print(\"q\", q.size())\n",
        "print(\"k\", k.size())\n",
        "print(\"v\", v.size())"
      ],
      "metadata": {
        "colab": {
          "base_uri": "https://localhost:8080/"
        },
        "id": "OZF8LTbiBBNp",
        "outputId": "a2cb6354-784a-4fe4-fb4b-0f4cf8e880db"
      },
      "execution_count": null,
      "outputs": [
        {
          "output_type": "stream",
          "name": "stdout",
          "text": [
            "q torch.Size([1, 8, 3, 64])\n",
            "k torch.Size([1, 8, 3, 64])\n",
            "v torch.Size([1, 8, 3, 64])\n"
          ]
        }
      ]
    },
    {
      "cell_type": "code",
      "source": [
        "d_k = q.size(-1)\n",
        "scores = torch.matmul(k, q.transpose(-2, -1)) / math.sqrt(d_k)\n",
        "scores = scores.masked_fill(y_mask == 0, -epsilon)\n",
        "attn = F.softmax(scores, dim = -1)\n",
        "print(\"attention\", attn.size())\n",
        "y = torch.matmul(attn, v)\n",
        "print(\"y\", y.size())"
      ],
      "metadata": {
        "colab": {
          "base_uri": "https://localhost:8080/"
        },
        "id": "IWIeDIOpBJ10",
        "outputId": "f0479edd-e5cc-48b8-de7f-b6a3dd9b1010"
      },
      "execution_count": null,
      "outputs": [
        {
          "output_type": "stream",
          "name": "stdout",
          "text": [
            "attention torch.Size([1, 8, 3, 3])\n",
            "y torch.Size([1, 8, 3, 64])\n"
          ]
        }
      ]
    },
    {
      "cell_type": "markdown",
      "source": [
        "Assemble heads"
      ],
      "metadata": {
        "id": "6ato2UicBYqj"
      }
    },
    {
      "cell_type": "code",
      "source": [
        "y = y.transpose(1, 2).contiguous().view(num_batches, -1, num_heads * (d_embed // num_heads))\n",
        "print(y.size())"
      ],
      "metadata": {
        "colab": {
          "base_uri": "https://localhost:8080/"
        },
        "id": "4BeJtRBjBX0c",
        "outputId": "b8b486d8-3e24-4e88-a7f9-6a8f4f22ce97"
      },
      "execution_count": null,
      "outputs": [
        {
          "output_type": "stream",
          "name": "stdout",
          "text": [
            "torch.Size([1, 3, 512])\n"
          ]
        }
      ]
    },
    {
      "cell_type": "markdown",
      "source": [
        "#### 2.2.1.4 Post-Self-Attention Feed Forward"
      ],
      "metadata": {
        "id": "2bierEXaBjR9"
      }
    },
    {
      "cell_type": "code",
      "source": [
        "ff_d1 = nn.Linear(d_embed, d_embed)\n",
        "y = ff_d1(y)\n",
        "print(y.size())"
      ],
      "metadata": {
        "colab": {
          "base_uri": "https://localhost:8080/"
        },
        "id": "FCnS-owhBioq",
        "outputId": "c9402c1a-41f8-4312-9a95-6f24befe648f"
      },
      "execution_count": null,
      "outputs": [
        {
          "output_type": "stream",
          "name": "stdout",
          "text": [
            "torch.Size([1, 3, 512])\n"
          ]
        }
      ]
    },
    {
      "cell_type": "markdown",
      "source": [
        "#### 2.2.1.5 Add residual back in"
      ],
      "metadata": {
        "id": "m1vjSeu7Bp7p"
      }
    },
    {
      "cell_type": "code",
      "source": [
        "y = y_residual + y\n",
        "print(y.size())"
      ],
      "metadata": {
        "colab": {
          "base_uri": "https://localhost:8080/"
        },
        "id": "yLGImc73BpS4",
        "outputId": "b0d2b24c-ed51-46b2-8a99-400ea1fe54a8"
      },
      "execution_count": null,
      "outputs": [
        {
          "output_type": "stream",
          "name": "stdout",
          "text": [
            "torch.Size([1, 3, 512])\n"
          ]
        }
      ]
    },
    {
      "cell_type": "markdown",
      "source": [
        "### 2.2.2 Source-Attention Sub-Layer"
      ],
      "metadata": {
        "id": "lmgiijtbFiXs"
      }
    },
    {
      "cell_type": "markdown",
      "source": [
        "#### 2.2.2.1 Set residual aside"
      ],
      "metadata": {
        "id": "dMk0234JBvJg"
      }
    },
    {
      "cell_type": "code",
      "source": [
        "y_residual = y.clone() \n",
        "print(y.size())"
      ],
      "metadata": {
        "colab": {
          "base_uri": "https://localhost:8080/"
        },
        "id": "afyYY7fmBzB4",
        "outputId": "7c39d2d8-84c9-4f78-e857-f3765ec0e14c"
      },
      "execution_count": null,
      "outputs": [
        {
          "output_type": "stream",
          "name": "stdout",
          "text": [
            "torch.Size([1, 3, 512])\n"
          ]
        }
      ]
    },
    {
      "cell_type": "markdown",
      "source": [
        "#### 2.2.2.2 Pre-Source-Attention Layer Normalization"
      ],
      "metadata": {
        "id": "2BxZbrnWB9aW"
      }
    },
    {
      "cell_type": "code",
      "source": [
        "mean = y.mean(-1, keepdim=True)\n",
        "std = y.std(-1, keepdim=True)\n",
        "W2_d = nn.Parameter(torch.ones(d_embed))\n",
        "b2_d = nn.Parameter(torch.zeros(d_embed))\n",
        "y = W2_d * (y - mean) / (std + epsilon) + b2_d\n",
        "print(y.size())"
      ],
      "metadata": {
        "colab": {
          "base_uri": "https://localhost:8080/"
        },
        "id": "Z4fC-0REB8h8",
        "outputId": "ed1b9ee6-211e-4a57-9045-5c4bcc0493a0"
      },
      "execution_count": null,
      "outputs": [
        {
          "output_type": "stream",
          "name": "stdout",
          "text": [
            "torch.Size([1, 3, 512])\n"
          ]
        }
      ]
    },
    {
      "cell_type": "markdown",
      "source": [
        "#### 2.2.2.3 Source Attention"
      ],
      "metadata": {
        "id": "88dSgLpqB4GV"
      }
    },
    {
      "cell_type": "markdown",
      "source": [
        "Source attention works just like self-attention, except we compute the scores using keys and values from the encoder and apply it to the query from the decoder. That is, based on what the encoder thinks we should attend to, what part of the decoder sequence should we actually attend to."
      ],
      "metadata": {
        "id": "9gww-JtEFxx_"
      }
    },
    {
      "cell_type": "code",
      "source": [
        "q = y\n",
        "k = x # notice we are using x\n",
        "v = x # notice we are using x\n",
        "linear_q_source = nn.Linear(d_embed, d_embed)\n",
        "linear_k_source = nn.Linear(d_embed, d_embed)\n",
        "linear_v_source = nn.Linear(d_embed, d_embed)\n",
        "d_k = d_embed // num_heads\n",
        "q = linear_q(q)\n",
        "k = linear_k(k)\n",
        "v = linear_v(v)\n",
        "q = q.view(num_batches, -1, num_heads, d_k).transpose(1, 2)\n",
        "k = k.view(num_batches, -1, num_heads, d_k).transpose(1, 2)\n",
        "v = v.view(num_batches, -1, num_heads, d_k).transpose(1, 2)\n",
        "print(\"q\", q.size())\n",
        "print(\"k\", k.size())\n",
        "print(\"v\", v.size())"
      ],
      "metadata": {
        "colab": {
          "base_uri": "https://localhost:8080/"
        },
        "id": "JTz6K1Z-B3sA",
        "outputId": "714c0487-2571-40ef-a34a-f0dc53d71222"
      },
      "execution_count": null,
      "outputs": [
        {
          "output_type": "stream",
          "name": "stdout",
          "text": [
            "q torch.Size([1, 8, 3, 64])\n",
            "k torch.Size([1, 8, 3, 64])\n",
            "v torch.Size([1, 8, 3, 64])\n"
          ]
        }
      ]
    },
    {
      "cell_type": "code",
      "source": [
        "d_k = q.size(-1)\n",
        "scores = torch.matmul(k, q.transpose(-2, -1)) / math.sqrt(d_k)\n",
        "scores = scores.masked_fill(x_mask == 0, -epsilon) # note source mask\n",
        "attn = F.softmax(scores, dim = -1)\n",
        "y = torch.matmul(attn, v)\n",
        "print(y.size())"
      ],
      "metadata": {
        "colab": {
          "base_uri": "https://localhost:8080/"
        },
        "id": "HcRRIaAGC02k",
        "outputId": "ebc2928f-cfde-4f5d-839e-9770b54dfe9f"
      },
      "execution_count": null,
      "outputs": [
        {
          "output_type": "stream",
          "name": "stdout",
          "text": [
            "torch.Size([1, 8, 3, 64])\n"
          ]
        }
      ]
    },
    {
      "cell_type": "markdown",
      "source": [
        "Assemble heads"
      ],
      "metadata": {
        "id": "cefcyfWDC4JX"
      }
    },
    {
      "cell_type": "code",
      "source": [
        "y = y.transpose(1, 2).contiguous().view(num_batches, -1, num_heads * (d_embed // num_heads))\n",
        "print(y.size())"
      ],
      "metadata": {
        "colab": {
          "base_uri": "https://localhost:8080/"
        },
        "id": "Rrj9aoLXC5Uo",
        "outputId": "fd602406-c63e-4de8-a7e7-d75acb089b49"
      },
      "execution_count": null,
      "outputs": [
        {
          "output_type": "stream",
          "name": "stdout",
          "text": [
            "torch.Size([1, 3, 512])\n"
          ]
        }
      ]
    },
    {
      "cell_type": "markdown",
      "source": [
        "#### 2.2.2.4 Post-Source-Attention Feed forward"
      ],
      "metadata": {
        "id": "3FfLZyREC832"
      }
    },
    {
      "cell_type": "code",
      "source": [
        "ff_d2 = nn.Linear(d_embed, d_embed)\n",
        "y = ff_d2(y)\n",
        "print(y.size())"
      ],
      "metadata": {
        "colab": {
          "base_uri": "https://localhost:8080/"
        },
        "id": "bUfjx2KhC9_w",
        "outputId": "b520e61f-a21b-44fe-8f03-8792138af711"
      },
      "execution_count": null,
      "outputs": [
        {
          "output_type": "stream",
          "name": "stdout",
          "text": [
            "torch.Size([1, 3, 512])\n"
          ]
        }
      ]
    },
    {
      "cell_type": "markdown",
      "source": [
        "#### 2.2.2.5 Add residual back in"
      ],
      "metadata": {
        "id": "BcZiKusQDBjc"
      }
    },
    {
      "cell_type": "code",
      "source": [
        "y = y_residual + y\n",
        "print(y.size())"
      ],
      "metadata": {
        "colab": {
          "base_uri": "https://localhost:8080/"
        },
        "id": "Dih1yg_kDDg5",
        "outputId": "5a1cd47c-256e-4906-b182-30b2f91730c5"
      },
      "execution_count": null,
      "outputs": [
        {
          "output_type": "stream",
          "name": "stdout",
          "text": [
            "torch.Size([1, 3, 512])\n"
          ]
        }
      ]
    },
    {
      "cell_type": "markdown",
      "source": [
        "### 2.2.3 Feed Forward Sub-Layer"
      ],
      "metadata": {
        "id": "6FRfeSRBGbgy"
      }
    },
    {
      "cell_type": "markdown",
      "source": [
        "#### 2.2.3.1 Set aside residual"
      ],
      "metadata": {
        "id": "Af-n0PTFDQ9U"
      }
    },
    {
      "cell_type": "code",
      "source": [
        "y_residual = y.clone()\n",
        "print(y.size())"
      ],
      "metadata": {
        "colab": {
          "base_uri": "https://localhost:8080/"
        },
        "id": "Bno9hwYxDSag",
        "outputId": "4386075e-dd95-430e-bd5e-42742ac016f2"
      },
      "execution_count": null,
      "outputs": [
        {
          "output_type": "stream",
          "name": "stdout",
          "text": [
            "torch.Size([1, 3, 512])\n"
          ]
        }
      ]
    },
    {
      "cell_type": "markdown",
      "source": [
        "#### 2.2.3.2 Pre-Feed-Forward Layer Normalization"
      ],
      "metadata": {
        "id": "xcz5yTDsDX8O"
      }
    },
    {
      "cell_type": "code",
      "source": [
        "mean = y.mean(-1, keepdim=True)\n",
        "std = y.std(-1, keepdim=True)\n",
        "W3_d = nn.Parameter(torch.ones(d_embed))\n",
        "b3_d = nn.Parameter(torch.zeros(d_embed))\n",
        "y = W3_d * (y - mean) / (std + epsilon) + b3_d\n",
        "print(y.size())"
      ],
      "metadata": {
        "colab": {
          "base_uri": "https://localhost:8080/"
        },
        "id": "Ncx0PcG-DYt0",
        "outputId": "e7c7a1c3-8329-485f-8d26-2a8317b7c9c8"
      },
      "execution_count": null,
      "outputs": [
        {
          "output_type": "stream",
          "name": "stdout",
          "text": [
            "torch.Size([1, 3, 512])\n"
          ]
        }
      ]
    },
    {
      "cell_type": "markdown",
      "source": [
        "#### 2.2.3.3 Feed Forward"
      ],
      "metadata": {
        "id": "or2ZZdXfDegg"
      }
    },
    {
      "cell_type": "code",
      "source": [
        "linear_expand_d = nn.Linear(d_embed, d_ff)\n",
        "linear_compress_d = nn.Linear(d_ff, d_embed)\n",
        "y = linear_compress_d(F.relu(linear_expand_d(y)))\n",
        "print(y.size())"
      ],
      "metadata": {
        "colab": {
          "base_uri": "https://localhost:8080/"
        },
        "id": "YHrTcy-xDgaq",
        "outputId": "ecc8e139-1fc4-4478-f484-1355cf3c9895"
      },
      "execution_count": null,
      "outputs": [
        {
          "output_type": "stream",
          "name": "stdout",
          "text": [
            "torch.Size([1, 3, 512])\n"
          ]
        }
      ]
    },
    {
      "cell_type": "markdown",
      "source": [
        "#### 2.2.3.4 Add residual back in"
      ],
      "metadata": {
        "id": "41h94ULPDn52"
      }
    },
    {
      "cell_type": "code",
      "source": [
        "y = y_residual + y\n",
        "print(y.size())"
      ],
      "metadata": {
        "colab": {
          "base_uri": "https://localhost:8080/"
        },
        "id": "iJ7CK78HDpQv",
        "outputId": "bf122ca5-96b4-4cb3-fdac-0d261a268366"
      },
      "execution_count": null,
      "outputs": [
        {
          "output_type": "stream",
          "name": "stdout",
          "text": [
            "torch.Size([1, 3, 512])\n"
          ]
        }
      ]
    },
    {
      "cell_type": "markdown",
      "source": [
        "## 2.3 Final Decoder Layer Normalization"
      ],
      "metadata": {
        "id": "lyxSbVuxDseS"
      }
    },
    {
      "cell_type": "code",
      "source": [
        "mean = y.mean(-1, keepdim=True)\n",
        "std = y.std(-1, keepdim=True)\n",
        "Wn_d = nn.Parameter(torch.ones(d_embed))\n",
        "bn_d = nn.Parameter(torch.zeros(d_embed))\n",
        "y = Wn_d * (y - mean) / (std + epsilon) + bn_d\n",
        "print(y.size())"
      ],
      "metadata": {
        "colab": {
          "base_uri": "https://localhost:8080/"
        },
        "id": "ld4nj8XJD0DO",
        "outputId": "601a0cc4-e84f-4335-a045-7d83f70a4713"
      },
      "execution_count": null,
      "outputs": [
        {
          "output_type": "stream",
          "name": "stdout",
          "text": [
            "torch.Size([1, 3, 512])\n"
          ]
        }
      ]
    },
    {
      "cell_type": "markdown",
      "source": [
        "# 3. Generate Probability Distribution"
      ],
      "metadata": {
        "id": "HMYkSaeIEL33"
      }
    },
    {
      "cell_type": "markdown",
      "source": [
        "This next module sits on top of the decoder and expands the decoder output into a log probability distribution over the vocabulary for each token position. This is done for all tokens, though the only ones that will matter for loss computation are the ones that are masked. The loss calculation is not done here."
      ],
      "metadata": {
        "id": "UDYHcYJiHZWI"
      }
    },
    {
      "cell_type": "code",
      "source": [
        "linear_scores = nn.Linear(d_embed, vocab)\n",
        "probs = F.log_softmax(linear_scores(y), dim=-1)\n",
        "print(probs.size())"
      ],
      "metadata": {
        "colab": {
          "base_uri": "https://localhost:8080/"
        },
        "id": "BvdmMdREEOtF",
        "outputId": "9e8e0c72-84a9-4264-de3a-cb7b73c91048"
      },
      "execution_count": null,
      "outputs": [
        {
          "output_type": "stream",
          "name": "stdout",
          "text": [
            "torch.Size([1, 3, 50000])\n"
          ]
        }
      ]
    },
    {
      "cell_type": "markdown",
      "source": [
        "# Loss and Training"
      ],
      "metadata": {
        "id": "OBOyeEY76IKk"
      }
    },
    {
      "cell_type": "markdown",
      "source": [
        "This notebook does not go through loss computation and training at this time. Loss is computed by looking at the masked probabilities and measuring the KL divergence from the actual target tokens. The code above will work with at `.backward()` once, but it recreates the linear layers etc. from scratch each time so it won't really learn anything. See [The Annotated Transformer](https://nlp.seas.harvard.edu/2018/04/03/attention.html) for a version that is closer to implementation as well as more in-depth description of the loss computation and training loop."
      ],
      "metadata": {
        "id": "louGBtN_6MVf"
      }
    },
    {
      "cell_type": "markdown",
      "source": [
        "# Etc."
      ],
      "metadata": {
        "id": "2VD-nZuHyOJE"
      }
    },
    {
      "cell_type": "markdown",
      "source": [
        "Careful observers will notice that I have left out a few details, such as Dropout layers, which appear in various places in the actual implementation. These details improving learning but do not significantly alter the understanding of how Transformers work."
      ],
      "metadata": {
        "id": "-N_xmdHnyQkh"
      }
    }
  ]
}
